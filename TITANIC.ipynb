{
 "cells": [
  {
   "cell_type": "code",
   "execution_count": 12,
   "metadata": {
    "collapsed": true
   },
   "outputs": [],
   "source": [
    "import pandas as pd\n",
    "import csv as csv\n",
    "from sklearn.ensemble import RandomForestClassifier"
   ]
  },
  {
   "cell_type": "code",
   "execution_count": 13,
   "metadata": {
    "collapsed": false
   },
   "outputs": [],
   "source": [
    "# Load training data\n",
    "#import os\n",
    "#os.getcwd()\n",
    "train_df = pd.read_csv(\"titanic/train.csv\", header=0)\n"
   ]
  },
  {
   "cell_type": "code",
   "execution_count": 14,
   "metadata": {
    "collapsed": false
   },
   "outputs": [
    {
     "data": {
      "text/html": [
       "<div>\n",
       "<table border=\"1\" class=\"dataframe\">\n",
       "  <thead>\n",
       "    <tr style=\"text-align: right;\">\n",
       "      <th></th>\n",
       "      <th>PassengerId</th>\n",
       "      <th>Survived</th>\n",
       "      <th>Pclass</th>\n",
       "      <th>Name</th>\n",
       "      <th>Sex</th>\n",
       "      <th>Age</th>\n",
       "      <th>SibSp</th>\n",
       "      <th>Parch</th>\n",
       "      <th>Ticket</th>\n",
       "      <th>Fare</th>\n",
       "      <th>Cabin</th>\n",
       "      <th>Embarked</th>\n",
       "      <th>Gender</th>\n",
       "    </tr>\n",
       "  </thead>\n",
       "  <tbody>\n",
       "    <tr>\n",
       "      <th>0</th>\n",
       "      <td>1</td>\n",
       "      <td>0</td>\n",
       "      <td>3</td>\n",
       "      <td>Braund, Mr. Owen Harris</td>\n",
       "      <td>male</td>\n",
       "      <td>22.0</td>\n",
       "      <td>1</td>\n",
       "      <td>0</td>\n",
       "      <td>A/5 21171</td>\n",
       "      <td>7.2500</td>\n",
       "      <td>NaN</td>\n",
       "      <td>S</td>\n",
       "      <td>1</td>\n",
       "    </tr>\n",
       "    <tr>\n",
       "      <th>1</th>\n",
       "      <td>2</td>\n",
       "      <td>1</td>\n",
       "      <td>1</td>\n",
       "      <td>Cumings, Mrs. John Bradley (Florence Briggs Th...</td>\n",
       "      <td>female</td>\n",
       "      <td>38.0</td>\n",
       "      <td>1</td>\n",
       "      <td>0</td>\n",
       "      <td>PC 17599</td>\n",
       "      <td>71.2833</td>\n",
       "      <td>C85</td>\n",
       "      <td>C</td>\n",
       "      <td>0</td>\n",
       "    </tr>\n",
       "    <tr>\n",
       "      <th>2</th>\n",
       "      <td>3</td>\n",
       "      <td>1</td>\n",
       "      <td>3</td>\n",
       "      <td>Heikkinen, Miss. Laina</td>\n",
       "      <td>female</td>\n",
       "      <td>26.0</td>\n",
       "      <td>0</td>\n",
       "      <td>0</td>\n",
       "      <td>STON/O2. 3101282</td>\n",
       "      <td>7.9250</td>\n",
       "      <td>NaN</td>\n",
       "      <td>S</td>\n",
       "      <td>0</td>\n",
       "    </tr>\n",
       "  </tbody>\n",
       "</table>\n",
       "</div>"
      ],
      "text/plain": [
       "   PassengerId  Survived  Pclass  \\\n",
       "0            1         0       3   \n",
       "1            2         1       1   \n",
       "2            3         1       3   \n",
       "\n",
       "                                                Name     Sex   Age  SibSp  \\\n",
       "0                            Braund, Mr. Owen Harris    male  22.0      1   \n",
       "1  Cumings, Mrs. John Bradley (Florence Briggs Th...  female  38.0      1   \n",
       "2                             Heikkinen, Miss. Laina  female  26.0      0   \n",
       "\n",
       "   Parch            Ticket     Fare Cabin Embarked  Gender  \n",
       "0      0         A/5 21171   7.2500   NaN        S       1  \n",
       "1      0          PC 17599  71.2833   C85        C       0  \n",
       "2      0  STON/O2. 3101282   7.9250   NaN        S       0  "
      ]
     },
     "execution_count": 14,
     "metadata": {},
     "output_type": "execute_result"
    }
   ],
   "source": [
    "# Convert \"Sex\" to be a dummy variable (female = 0, Male = 1)\n",
    "train_df[\"Gender\"] = train_df[\"Sex\"].map({\"female\": 0, \"male\": 1}).astype(int)\n",
    "train_df.head(3)"
   ]
  },
  {
   "cell_type": "code",
   "execution_count": 15,
   "metadata": {
    "collapsed": false
   },
   "outputs": [],
   "source": [
    "# Complement the missing values of \"Age\" column with average of \"Age\"\n",
    "median_age = train_df[\"Age\"].dropna().median()\n",
    "if len(train_df.Age[train_df.Age.isnull()]) > 0:\n",
    "  train_df.loc[(train_df.Age.isnull()), \"Age\"] = median_age\n"
   ]
  },
  {
   "cell_type": "code",
   "execution_count": 16,
   "metadata": {
    "collapsed": false
   },
   "outputs": [
    {
     "data": {
      "text/html": [
       "<div>\n",
       "<table border=\"1\" class=\"dataframe\">\n",
       "  <thead>\n",
       "    <tr style=\"text-align: right;\">\n",
       "      <th></th>\n",
       "      <th>Survived</th>\n",
       "      <th>Pclass</th>\n",
       "      <th>Age</th>\n",
       "      <th>Gender</th>\n",
       "    </tr>\n",
       "  </thead>\n",
       "  <tbody>\n",
       "    <tr>\n",
       "      <th>0</th>\n",
       "      <td>0</td>\n",
       "      <td>3</td>\n",
       "      <td>22.0</td>\n",
       "      <td>1</td>\n",
       "    </tr>\n",
       "    <tr>\n",
       "      <th>1</th>\n",
       "      <td>1</td>\n",
       "      <td>1</td>\n",
       "      <td>38.0</td>\n",
       "      <td>0</td>\n",
       "    </tr>\n",
       "    <tr>\n",
       "      <th>2</th>\n",
       "      <td>1</td>\n",
       "      <td>3</td>\n",
       "      <td>26.0</td>\n",
       "      <td>0</td>\n",
       "    </tr>\n",
       "  </tbody>\n",
       "</table>\n",
       "</div>"
      ],
      "text/plain": [
       "   Survived  Pclass   Age  Gender\n",
       "0         0       3  22.0       1\n",
       "1         1       1  38.0       0\n",
       "2         1       3  26.0       0"
      ]
     },
     "execution_count": 16,
     "metadata": {},
     "output_type": "execute_result"
    }
   ],
   "source": [
    "# remove un-used columns\n",
    "train_df = train_df.drop([\"Name\", \"Ticket\", \"Sex\", \"SibSp\", \"Parch\", \"Fare\", \"Cabin\", \"Embarked\", \"PassengerId\"], axis=1)\n",
    "train_df.head(3)"
   ]
  },
  {
   "cell_type": "code",
   "execution_count": 17,
   "metadata": {
    "collapsed": false
   },
   "outputs": [],
   "source": [
    "# Load test data, Convert \"Sex\" to be a dummy variable\n",
    "test_df = pd.read_csv(\"titanic/test.csv\", header=0)\n",
    "test_df[\"Gender\"] = test_df[\"Sex\"].map({\"female\": 0, \"male\": 1}).astype(int)"
   ]
  },
  {
   "cell_type": "code",
   "execution_count": 18,
   "metadata": {
    "collapsed": false
   },
   "outputs": [],
   "source": [
    "# Complement the missing values of \"Age\" column with average of \"Age\"\n",
    "median_age = test_df[\"Age\"].dropna().median()\n",
    "if len(test_df.Age[test_df.Age.isnull()]) > 0:\n",
    "  test_df.loc[(test_df.Age.isnull()), \"Age\"] = median_age"
   ]
  },
  {
   "cell_type": "code",
   "execution_count": 19,
   "metadata": {
    "collapsed": false
   },
   "outputs": [
    {
     "data": {
      "text/html": [
       "<div>\n",
       "<table border=\"1\" class=\"dataframe\">\n",
       "  <thead>\n",
       "    <tr style=\"text-align: right;\">\n",
       "      <th></th>\n",
       "      <th>Pclass</th>\n",
       "      <th>Age</th>\n",
       "      <th>Gender</th>\n",
       "    </tr>\n",
       "  </thead>\n",
       "  <tbody>\n",
       "    <tr>\n",
       "      <th>0</th>\n",
       "      <td>3</td>\n",
       "      <td>34.5</td>\n",
       "      <td>1</td>\n",
       "    </tr>\n",
       "    <tr>\n",
       "      <th>1</th>\n",
       "      <td>3</td>\n",
       "      <td>47.0</td>\n",
       "      <td>0</td>\n",
       "    </tr>\n",
       "    <tr>\n",
       "      <th>2</th>\n",
       "      <td>2</td>\n",
       "      <td>62.0</td>\n",
       "      <td>1</td>\n",
       "    </tr>\n",
       "  </tbody>\n",
       "</table>\n",
       "</div>"
      ],
      "text/plain": [
       "   Pclass   Age  Gender\n",
       "0       3  34.5       1\n",
       "1       3  47.0       0\n",
       "2       2  62.0       1"
      ]
     },
     "execution_count": 19,
     "metadata": {},
     "output_type": "execute_result"
    }
   ],
   "source": [
    "# Copy test data's \"PassengerId\" column, and remove un-used columns\n",
    "ids = test_df[\"PassengerId\"].values\n",
    "test_df = test_df.drop([\"Name\", \"Ticket\", \"Sex\", \"SibSp\", \"Parch\", \"Fare\", \"Cabin\", \"Embarked\", \"PassengerId\"], axis=1)\n",
    "test_df.head(3)"
   ]
  },
  {
   "cell_type": "code",
   "execution_count": 34,
   "metadata": {
    "collapsed": false
   },
   "outputs": [],
   "source": [
    "# Predict with \"Random Forest\"\n",
    "import numpy as np\n",
    "train_data = train_df.values\n",
    "test_data = test_df.values\n",
    "model = RandomForestClassifier(n_estimators=100)\n",
    "#output = model.fit(train_data[0::, 1::], train_data[0::, 0]).predict(test_data).astype(int)\n",
    "output = model.fit(train_data[0::, 1::], train_data[0::, 0]).predict_proba(test_data).astype(np.float32)"
   ]
  },
  {
   "cell_type": "code",
   "execution_count": 45,
   "metadata": {
    "collapsed": false
   },
   "outputs": [
    {
     "name": "stdout",
     "output_type": "stream",
     "text": [
      "[1.         1.         0.43       0.43437698 0.30482414 0.95\n",
      " 0.5888571  0.99053574 0.6239153  0.93166846 0.43437698 0.99523807\n",
      " 0.         0.43       0.01       0.12687878 0.9831667  0.93166846\n",
      " 0.03233333 1.         0.9905     0.5427143  0.04816667 0.98\n",
      " 0.         1.         0.         0.9184855  0.6565     0.43437698\n",
      " 0.98       1.         0.23280953 0.03233333 0.9630026  0.89363354\n",
      " 0.03233333 0.77757937 0.8328636  0.43437698 0.70069045 0.25198483\n",
      " 1.         0.         0.         0.8328636  0.76469046 0.43437698\n",
      " 0.01       0.09       0.89       0.99616665 0.         0.\n",
      " 0.99616665 0.82913095 1.         0.8328636  0.43437698 0.\n",
      " 1.         0.6471746  0.89363354 0.30482414 0.11       0.35880953\n",
      " 0.6239153  0.99       0.70607144 0.01       0.22166666 0.93166846\n",
      " 0.68151706 0.7152355  0.         0.325      0.43437698 0.\n",
      " 1.         0.22166666 0.295      1.         0.331      0.43437698\n",
      " 0.99616665 0.43437698 0.03233333 0.6239153  0.03233333 0.03\n",
      " 0.30482414 0.43437698 0.04816667 0.43437698 0.13       0.8328636\n",
      " 0.09       0.62393135 0.8934615  1.         0.         0.99616665\n",
      " 0.43437698 0.81574494 0.31997618 0.9211375  0.93166846 0.43437698\n",
      " 0.43437698 0.998      0.6904762  0.03233333 0.         0.6239153\n",
      " 0.02       0.89363354 0.43437698 0.046      0.3044293  0.\n",
      " 0.06       0.43437698 0.         0.9211375  0.43437698 0.4665\n",
      " 0.9184855  0.03233333 0.6854762  0.88887274 0.5400216  0.52466667\n",
      " 0.03233333 0.43437698 1.         0.88887274 0.81574494 0.99053574\n",
      " 0.47970346 1.         1.         0.         0.9533333  0.83423257\n",
      " 0.36372223 0.6833571  0.25198483 0.9184855  0.25198483 1.\n",
      " 0.         0.43437698 1.         0.09       0.4        0.88887274\n",
      " 0.01       0.47970346 0.36372223 0.42811903 0.03233333 0.95\n",
      " 0.66333336 0.43437698 0.6904762  0.42811903 0.04       0.89363354\n",
      " 0.04816667 0.30482414 0.43437698 0.43437698 0.9975     0.43437698\n",
      " 1.         0.05       0.         0.985      0.         0.13\n",
      " 1.         0.6447381  0.         0.43437698 0.04816667 0.97157145\n",
      " 0.         1.         0.03233333 0.97157145 0.8441945  0.25198483\n",
      " 0.925      0.83       0.13428572 1.         0.02       0.6239153\n",
      " 1.         0.03233333 0.03233333 0.2355     0.99       0.03\n",
      " 1.         0.25198483 0.06       1.         0.         0.8328636\n",
      " 0.5400216  0.43437698 0.93       0.63       0.4        0.36372223\n",
      " 0.03233333 0.6776905  0.44921428 0.43437698 0.         0.93166846\n",
      " 0.00166667 0.93166846 0.         0.03233333 0.9975     0.03233333\n",
      " 1.         1.         0.82       0.         0.93166846 0.43437698\n",
      " 0.89547616 0.7761879  1.         0.7761879  0.01       0.\n",
      " 0.         0.05       0.76469046 0.43437698 0.43437698 0.6565\n",
      " 0.00166667 0.6854762  0.         0.03233333 0.08       0.7761879\n",
      " 0.25198483 0.88887274 0.5748293  0.43437698 0.43437698 0.9211375\n",
      " 0.         0.93166846 1.         0.93166846 0.         0.046\n",
      " 1.         0.43437698 0.25198483 0.43437698 0.03233333 1.\n",
      " 0.99523807 0.43437698 0.2        0.03233333 0.43437698 0.\n",
      " 0.83423257 0.97157145 1.         0.9781111  0.47970346 0.48991665\n",
      " 0.03233333 1.         0.7753492  1.         0.43437698 0.89\n",
      " 0.43437698 0.43437698 0.25198483 0.5888571  0.43437698 0.52466667\n",
      " 1.         0.81574494 0.08       0.43437698 0.9630026  0.62393135\n",
      " 0.5400216  0.99616665 0.8890714  0.88887274 0.03233333 0.13\n",
      " 0.9630026  0.48991665 0.9905     1.         0.89363354 0.9184855\n",
      " 0.43437698 0.64       0.         0.4665     0.6776905  0.7434866\n",
      " 0.43437698 0.9781111  0.81574494 0.8328636  0.99053574 0.7183333\n",
      " 0.         0.9975     0.06       0.99523807 0.991884   0.982\n",
      " 0.01       0.89547616 0.43437698 0.08125649 0.43437698 0.9630026\n",
      " 0.6471746  0.70069045 1.         0.43437698 0.998      0.5400216\n",
      " 0.43437698 0.01       0.43437698 0.31997618 0.99053574 0.4\n",
      " 1.         0.005      0.         1.         0.998      0.99\n",
      " 0.01       0.70507145 0.01       0.43437698 0.43437698 0.5888571\n",
      " 0.9877381  0.12687878 0.005      0.43437698 0.65       0.03233333\n",
      " 0.43437698 0.30482414 0.         0.991884   0.982      0.005\n",
      " 0.331      0.9705     0.         0.         0.30482414 0.982\n",
      " 0.9905     0.69569045 0.43437698 0.81574494 0.03233333 0.08125649\n",
      " 0.99616665 0.12687878 0.88887274 1.         0.93166846 0.295\n",
      " 0.31       0.18516667 0.4        1.         0.62393135 0.\n",
      " 0.88887274 0.         0.9184855  0.6833571  0.         1.\n",
      " 0.         0.33       0.37638888 0.7364246  1.         0.70507145\n",
      " 0.03233333 0.8580159  0.03233333 0.0275     0.4348454  0.43437698\n",
      " 0.         0.98190475 0.43437698 0.43437698]\n"
     ]
    }
   ],
   "source": [
    "print(output[:,0])"
   ]
  },
  {
   "cell_type": "code",
   "execution_count": 49,
   "metadata": {
    "collapsed": false
   },
   "outputs": [],
   "source": [
    "# export result to be \"titanic_submit.csv\"\n",
    "submit_file = open(\"titanic/titanic_submit.csv\", \"w\", newline='')\n",
    "file_object = csv.writer(submit_file)\n",
    "file_object.writerow([\"PassengerId\", \"Survived\"])\n",
    "file_object.writerows(zip(ids, output[:,0]))\n",
    "submit_file.close()"
   ]
  },
  {
   "cell_type": "code",
   "execution_count": null,
   "metadata": {
    "collapsed": true
   },
   "outputs": [],
   "source": []
  },
  {
   "cell_type": "code",
   "execution_count": null,
   "metadata": {
    "collapsed": true
   },
   "outputs": [],
   "source": []
  }
 ],
 "metadata": {
  "kernelspec": {
   "display_name": "Python 3",
   "language": "python",
   "name": "python3"
  },
  "language_info": {
   "codemirror_mode": {
    "name": "ipython",
    "version": 3
   },
   "file_extension": ".py",
   "mimetype": "text/x-python",
   "name": "python",
   "nbconvert_exporter": "python",
   "pygments_lexer": "ipython3",
   "version": "3.6.0"
  }
 },
 "nbformat": 4,
 "nbformat_minor": 2
}
